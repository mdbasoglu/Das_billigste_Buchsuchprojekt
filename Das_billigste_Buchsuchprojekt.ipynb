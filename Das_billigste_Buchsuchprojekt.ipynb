{
 "cells": [
  {
   "cell_type": "code",
   "execution_count": 11,
   "id": "7c85682b",
   "metadata": {},
   "outputs": [],
   "source": [
    "from bs4 import BeautifulSoup\n",
    "import requests\n",
    "from selenium import webdriver\n",
    "import time\n",
    "from selenium.webdriver.common.keys import Keys\n",
    "from selenium.webdriver.chrome.service import Service\n",
    "from webdriver_manager.chrome import ChromeDriverManager"
   ]
  },
  {
   "cell_type": "code",
   "execution_count": null,
   "id": "75c38c74",
   "metadata": {},
   "outputs": [],
   "source": [
    "\n"
   ]
  },
  {
   "cell_type": "code",
   "execution_count": null,
   "id": "b4a8d24c",
   "metadata": {},
   "outputs": [],
   "source": [
    "#bkm drkitap kitapyurdu"
   ]
  },
  {
   "cell_type": "code",
   "execution_count": 12,
   "id": "572dcf6e",
   "metadata": {},
   "outputs": [
    {
     "name": "stderr",
     "output_type": "stream",
     "text": [
      "\n",
      "\n",
      "====== WebDriver manager ======\n",
      "Current google-chrome version is 97.0.4692\n",
      "Get LATEST chromedriver version for 97.0.4692 google-chrome\n",
      "There is no [win32] chromedriver for browser  in cache\n",
      "Trying to download new driver from https://chromedriver.storage.googleapis.com/97.0.4692.71/chromedriver_win32.zip\n",
      "Driver has been saved in cache [C:\\Users\\m.basoglu\\.wdm\\drivers\\chromedriver\\win32\\97.0.4692.71]\n"
     ]
    },
    {
     "name": "stdout",
     "output_type": "stream",
     "text": [
      "Kitap adını giriniz : sefiller\n",
      "Yayınevini giriniz : iş bankası\n"
     ]
    },
    {
     "ename": "NameError",
     "evalue": "name 'browser' is not defined",
     "output_type": "error",
     "traceback": [
      "\u001b[1;31m---------------------------------------------------------------------------\u001b[0m",
      "\u001b[1;31mNameError\u001b[0m                                 Traceback (most recent call last)",
      "\u001b[1;32mC:\\Users\\M93F2~1.BAS\\AppData\\Local\\Temp/ipykernel_8712/2643391561.py\u001b[0m in \u001b[0;36m<module>\u001b[1;34m\u001b[0m\n\u001b[0;32m     80\u001b[0m     \u001b[0mprint\u001b[0m\u001b[1;33m(\u001b[0m\u001b[1;34m\"DR KİTAP = \"\u001b[0m\u001b[1;33m+\u001b[0m \u001b[0mdr_kitap_adi\u001b[0m\u001b[1;33m+\u001b[0m\u001b[1;34m\" , \"\u001b[0m\u001b[1;33m+\u001b[0m\u001b[0mdr_yayin_evi\u001b[0m\u001b[1;33m+\u001b[0m\u001b[1;34m\" , \"\u001b[0m\u001b[1;33m+\u001b[0m\u001b[0mdr_yazar_adi\u001b[0m\u001b[1;33m+\u001b[0m\u001b[1;34m\" , \"\u001b[0m\u001b[1;33m+\u001b[0m\u001b[0mdr_fiyat\u001b[0m\u001b[1;33m)\u001b[0m\u001b[1;33m\u001b[0m\u001b[1;33m\u001b[0m\u001b[0m\n\u001b[0;32m     81\u001b[0m \u001b[1;33m\u001b[0m\u001b[0m\n\u001b[1;32m---> 82\u001b[1;33m \u001b[0mbkm_kitap\u001b[0m\u001b[1;33m(\u001b[0m\u001b[1;33m)\u001b[0m\u001b[1;33m\u001b[0m\u001b[1;33m\u001b[0m\u001b[0m\n\u001b[0m\u001b[0;32m     83\u001b[0m \u001b[0mkitapyurdu\u001b[0m\u001b[1;33m(\u001b[0m\u001b[1;33m)\u001b[0m\u001b[1;33m\u001b[0m\u001b[1;33m\u001b[0m\u001b[0m\n\u001b[0;32m     84\u001b[0m \u001b[0mdr_kitap\u001b[0m\u001b[1;33m(\u001b[0m\u001b[1;33m)\u001b[0m\u001b[1;33m\u001b[0m\u001b[1;33m\u001b[0m\u001b[0m\n",
      "\u001b[1;32mC:\\Users\\M93F2~1.BAS\\AppData\\Local\\Temp/ipykernel_8712/2643391561.py\u001b[0m in \u001b[0;36mbkm_kitap\u001b[1;34m()\u001b[0m\n\u001b[0;32m      7\u001b[0m \u001b[1;33m\u001b[0m\u001b[0m\n\u001b[0;32m      8\u001b[0m \u001b[1;32mdef\u001b[0m \u001b[0mbkm_kitap\u001b[0m\u001b[1;33m(\u001b[0m\u001b[1;33m)\u001b[0m\u001b[1;33m:\u001b[0m\u001b[1;33m\u001b[0m\u001b[1;33m\u001b[0m\u001b[0m\n\u001b[1;32m----> 9\u001b[1;33m     \u001b[0mbrowser\u001b[0m\u001b[1;33m.\u001b[0m\u001b[0mget\u001b[0m\u001b[1;33m(\u001b[0m\u001b[1;34m\"https://www.google.com/\"\u001b[0m\u001b[1;33m)\u001b[0m\u001b[1;33m\u001b[0m\u001b[1;33m\u001b[0m\u001b[0m\n\u001b[0m\u001b[0;32m     10\u001b[0m \u001b[1;33m\u001b[0m\u001b[0m\n\u001b[0;32m     11\u001b[0m     \u001b[0mbkm_kitap_veri_girisi\u001b[0m \u001b[1;33m=\u001b[0m \u001b[0mbrowser\u001b[0m\u001b[1;33m.\u001b[0m\u001b[0mfind_element_by_css_selector\u001b[0m\u001b[1;33m(\u001b[0m\u001b[1;34m\".gLFyf.gsfi\"\u001b[0m\u001b[1;33m)\u001b[0m\u001b[1;33m\u001b[0m\u001b[1;33m\u001b[0m\u001b[0m\n",
      "\u001b[1;31mNameError\u001b[0m: name 'browser' is not defined"
     ]
    }
   ],
   "source": [
    "driver = webdriver.Chrome(service=Service(ChromeDriverManager().install()))\n",
    "driver.get(\"https://www.google.com\")\n",
    "\n",
    "\n",
    "kitap_adi = input(\"Schreiben Sie bitte Ihr gewünschtes Buch : \")\n",
    "yayin_evi = input(\"Herausgeber : \")\n",
    "\n",
    "def bkm_kitap():\n",
    "    browser.get(\"https://www.google.com/\")\n",
    "\n",
    "    bkm_kitap_veri_girisi = browser.find_element_by_css_selector(\".gLFyf.gsfi\")\n",
    "    bkm_kitap_veri_girisi.send_keys(kitap_adi+ \" \"+ yayin_evi+ \" \"+\" site:bkmkitap.com\")\n",
    "    time.sleep(2)\n",
    "\n",
    "    bkm_kitap_veri_girisi.send_keys(Keys.ENTER)\n",
    "    time.sleep(2)\n",
    "\n",
    "    bkm_kitap_tikla = browser.find_element_by_xpath(\"//*[@id='rso']/div[1]/div/div[1]/a\")\n",
    "    bkm_kitap_tikla.click()\n",
    "\n",
    "    bkm_kitap_sayfa = browser.page_source\n",
    "    bkm_kitap_soup = BeautifulSoup(bkm_kitap_sayfa, \"lxml\")\n",
    "\n",
    "    bkm_kitap_bilgiler = bkm_kitap_soup.find(\"div\",attrs={\"id\":\"productInfo\"})\n",
    "\n",
    "    bkm_kitap_adi = bkm_kitap_bilgiler.find(\"h1\").text\n",
    "    bkm_kitap_yayin_evi = bkm_kitap_bilgiler.find(\"a\").text.strip()\n",
    "\n",
    "    bkm_kitap_yazar_adi = bkm_kitap_bilgiler.find(\"a\",attrs={\"id\":\"productModelText\"}).text.strip()\n",
    "\n",
    "    bkm_kitap_fiyat = bkm_kitap_soup.find(\"span\",attrs={\"class\":\"product-price\"}).text\n",
    "\n",
    "    print(\"BKM KİTAP = \"+ bkm_kitap_adi+ \" , \"+ bkm_kitap_yayin_evi+\" , \"+bkm_kitap_yazar_adi+\" , \"+bkm_kitap_fiyat)\n",
    "    \n",
    "def kitapyurdu():\n",
    "    browser.get(\"https://www.google.com/\")\n",
    "\n",
    "    kitapyurdu_veri_girisi = browser.find_element_by_css_selector(\".gLFyf.gsfi\")\n",
    "    kitapyurdu_veri_girisi.send_keys(kitap_adi+ \" \"+ yayin_evi+ \" \"+\" site:kitapyurdu.com\")\n",
    "    time.sleep(2)\n",
    "\n",
    "    kitapyurdu_veri_girisi.send_keys(Keys.ENTER)\n",
    "    time.sleep(2)\n",
    "\n",
    "    kitapyurdu_tikla = browser.find_element_by_xpath(\"//*[@id='rso']/div[1]/div/div[1]/a\")\n",
    "    kitapyurdu_tikla.click()\n",
    "\n",
    "    kitapyurdu_sayfa = browser.page_source\n",
    "    kitapyurdu_soup = BeautifulSoup(kitapyurdu_sayfa, \"lxml\")\n",
    "\n",
    "    kitapyurdu_kitap_adi = kitapyurdu_soup.find(\"h1\",attrs={\"class\":\"pr_header__heading\"}).text\n",
    "    kitapyurdu_yazar_adi = kitapyurdu_soup.find(\"a\",attrs={\"class\":\"pr_producers__link\"}).text.strip()\n",
    "    kitapyurdu_yayin_evi = kitapyurdu_soup.find(\"div\",attrs={\"class\":\"pr_producers__publisher\"}).text.strip()\n",
    "    kitapyurdu_fiyat = kitapyurdu_soup.find(\"div\",attrs={\"class\":\"price__item\"}).text.strip()\n",
    "\n",
    "\n",
    "    print(\"KİTAP YURDU = \"+ kitapyurdu_kitap_adi+\" , \"+kitapyurdu_yazar_adi+\" , \"+kitapyurdu_yayin_evi+\" , \"+kitapyurdu_fiyat)\n",
    "\n",
    "def dr_kitap():\n",
    "    browser.get(\"https://www.google.com/\")\n",
    "\n",
    "    dr_veri_girisi = browser.find_element_by_css_selector(\".gLFyf.gsfi\")\n",
    "    dr_veri_girisi.send_keys(kitap_adi+ \" \"+ yayin_evi+ \" \"+\" site:dr.com.tr\")\n",
    "    time.sleep(2)\n",
    "\n",
    "    dr_veri_girisi.send_keys(Keys.ENTER)\n",
    "    time.sleep(2)\n",
    "\n",
    "    dr_tikla = browser.find_element_by_xpath(\"//*[@id='rso']/div[1]/div/div[1]/a\")\n",
    "    dr_tikla.click()\n",
    "\n",
    "    dr_sayfa = browser.page_source\n",
    "\n",
    "    dr_soup = BeautifulSoup(dr_sayfa, \"lxml\")\n",
    "    dr_yazar_adi = dr_soup.find(\"span\",attrs={\"class\":\"name\"}).text\n",
    "    dr_yayin_evi = dr_soup.find(\"h2\").text\n",
    "    dr_kitap_adi  =dr_soup.find(\"h1\",attrs={\"class\":\"product-name\"}).text.strip()\n",
    "    dr_fiyat = dr_soup.find(\"span\",attrs={\"id\":\"salePrice\"}).text\n",
    "\n",
    "    print(\"DR KİTAP = \"+ dr_kitap_adi+\" , \"+dr_yayin_evi+\" , \"+dr_yazar_adi+\" , \"+dr_fiyat)\n",
    "\n",
    "bkm_kitap()\n",
    "kitapyurdu()\n",
    "dr_kitap()"
   ]
  },
  {
   "cell_type": "code",
   "execution_count": null,
   "id": "563ea47a",
   "metadata": {},
   "outputs": [],
   "source": []
  },
  {
   "cell_type": "code",
   "execution_count": null,
   "id": "743d592d",
   "metadata": {},
   "outputs": [],
   "source": []
  }
 ],
 "metadata": {
  "kernelspec": {
   "display_name": "Python 3 (ipykernel)",
   "language": "python",
   "name": "python3"
  },
  "language_info": {
   "codemirror_mode": {
    "name": "ipython",
    "version": 3
   },
   "file_extension": ".py",
   "mimetype": "text/x-python",
   "name": "python",
   "nbconvert_exporter": "python",
   "pygments_lexer": "ipython3",
   "version": "3.9.7"
  }
 },
 "nbformat": 4,
 "nbformat_minor": 5
}
